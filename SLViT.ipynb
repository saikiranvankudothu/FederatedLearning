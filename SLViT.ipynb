{
 "cells": [
  {
   "cell_type": "code",
   "execution_count": 50,
   "id": "a4a81c65",
   "metadata": {},
   "outputs": [],
   "source": [
    "# !pip install timm medmnist scikit-learn"
   ]
  },
  {
   "cell_type": "code",
   "execution_count": 51,
   "id": "b3b69f83",
   "metadata": {},
   "outputs": [],
   "source": [
    "# -------------------- Setup --------------------\n",
    "import torch\n",
    "import torch.nn as nn\n",
    "from torch.utils.data import DataLoader, Subset\n",
    "import timm\n",
    "import numpy as np\n",
    "import random\n",
    "from sklearn.metrics import balanced_accuracy_score\n",
    "from medmnist import INFO, BloodMNIST\n",
    "from torchvision import transforms\n",
    "import matplotlib.pyplot as plt\n",
    "from tqdm import tqdm\n"
   ]
  },
  {
   "cell_type": "code",
   "execution_count": 52,
   "id": "f3543a78",
   "metadata": {},
   "outputs": [
    {
     "data": {
      "text/plain": [
       "<torch._C.Generator at 0x162d7f058d0>"
      ]
     },
     "execution_count": 52,
     "metadata": {},
     "output_type": "execute_result"
    }
   ],
   "source": [
    "# -------------------- Config --------------------\n",
    "SEED = 42\n",
    "USE_SUBSET = True      # Set to True to use a small subset of data\n",
    "TRAIN_SUBSET_SIZE = 100  # smaller for faster training\n",
    "TEST_SUBSET_SIZE = 20    # optionally reduced, but still enough to validate\n",
    "BATCH_SIZE = 4\n",
    "EPOCHS = 10\n",
    "LR = 1e-4\n",
    "DEVICE = 'cuda' if torch.cuda.is_available() else 'cpu'\n",
    "\n",
    "# Set seeds for reproducibility\n",
    "random.seed(SEED)\n",
    "np.random.seed(SEED)\n",
    "torch.manual_seed(SEED)\n"
   ]
  },
  {
   "cell_type": "code",
   "execution_count": 53,
   "id": "439b6a64",
   "metadata": {},
   "outputs": [
    {
     "name": "stdout",
     "output_type": "stream",
     "text": [
      "Using downloaded and verified file: ./data\\bloodmnist.npz\n",
      "Using downloaded and verified file: ./data\\bloodmnist.npz\n"
     ]
    }
   ],
   "source": [
    "# -------------------- Data --------------------\n",
    "info = INFO['bloodmnist']\n",
    "n_classes = len(info['label'])\n",
    "\n",
    "transform = transforms.Compose([\n",
    "    transforms.Resize((224, 224)),\n",
    "    transforms.ToTensor()\n",
    "])\n",
    "root = './data'\n",
    "\n",
    "train_dataset = BloodMNIST(root=root, split='train', transform=transform, download=True)\n",
    "test_dataset = BloodMNIST(root=root, split='test', transform=transform, download=True)\n",
    "\n",
    "# Optional subset (for debugging/faster runs)\n",
    "if USE_SUBSET:\n",
    "    indices = list(range(len(train_dataset)))\n",
    "    subset_indices = indices[:TRAIN_SUBSET_SIZE]\n",
    "    train_dataset = Subset(train_dataset, subset_indices)\n",
    "    # for test dataset \n",
    "    test_indices = list(range(len(test_dataset)))\n",
    "    test_subset_indices = test_indices[:TEST_SUBSET_SIZE]\n",
    "    test_dataset = Subset(test_dataset, test_subset_indices)\n",
    "\n",
    "\n",
    "train_loader = DataLoader(train_dataset, batch_size=BATCH_SIZE, shuffle=True)\n",
    "test_loader = DataLoader(test_dataset, batch_size=BATCH_SIZE, shuffle=False)\n"
   ]
  },
  {
   "cell_type": "code",
   "execution_count": 54,
   "id": "694eb41e",
   "metadata": {},
   "outputs": [],
   "source": [
    "# -------------------- SLViT --------------------\n",
    "class SLViT(nn.Module):\n",
    "    def __init__(self, num_classes, diff_privacy=False, mean=0, std=1):\n",
    "        super().__init__()\n",
    "        self.diff_privacy = diff_privacy\n",
    "        self.mean = mean\n",
    "        self.std = std\n",
    "\n",
    "        self.vit = timm.create_model('vit_base_patch16_224', pretrained=False)\n",
    "        self.vit.head = nn.Identity()\n",
    "\n",
    "        self.patch_embed = nn.Conv2d(3, 768, kernel_size=16, stride=16)\n",
    "        self.transformer_blocks = self.vit.blocks\n",
    "        self.cls_token = self.vit.cls_token\n",
    "        self.pos_embed = self.vit.pos_embed\n",
    "        self.pos_drop = self.vit.pos_drop\n",
    "        self.norm = self.vit.norm\n",
    "\n",
    "        self.mlp_head = nn.Sequential(\n",
    "            nn.LayerNorm(768),\n",
    "            nn.Linear(768, num_classes)\n",
    "        )\n",
    "\n",
    "    def forward(self, x):\n",
    "        # CLIENT\n",
    "        x = self.patch_embed(x)                          # (B, 768, 14, 14)\n",
    "        x = x.flatten(2).transpose(1, 2)                 # (B, 196, 768)\n",
    "\n",
    "        if self.diff_privacy:\n",
    "            x += torch.randn_like(x) * self.std + self.mean\n",
    "\n",
    "        # SERVER\n",
    "        B = x.size(0)\n",
    "        cls_tokens = self.cls_token.expand(B, -1, -1)    # (B, 1, 768)\n",
    "        x = torch.cat((cls_tokens, x), dim=1)\n",
    "        x = x + self.pos_embed\n",
    "        x = self.pos_drop(x)\n",
    "\n",
    "        for block in self.transformer_blocks:\n",
    "            x = block(x)\n",
    "\n",
    "        x = self.norm(x)\n",
    "        cls = x[:, 0]                                    # (B, 768)\n",
    "\n",
    "        # CLIENT\n",
    "        out = self.mlp_head(cls)                         # (B, num_classes)\n",
    "        return out\n"
   ]
  },
  {
   "cell_type": "code",
   "execution_count": 55,
   "id": "dab6417c",
   "metadata": {},
   "outputs": [],
   "source": [
    "# -------------------- Training --------------------\n",
    "def train(model, loader, criterion, optimizer):\n",
    "    model.train()\n",
    "    total_loss = 0\n",
    "    all_labels, all_preds = [], []\n",
    "\n",
    "    for imgs, labels in tqdm(loader, desc=\"Training\", leave=False):\n",
    "        imgs, labels = imgs.to(DEVICE), labels.squeeze().to(DEVICE)\n",
    "\n",
    "        optimizer.zero_grad()\n",
    "        outputs = model(imgs)\n",
    "        loss = criterion(outputs, labels)\n",
    "        loss.backward()\n",
    "        optimizer.step()\n",
    "\n",
    "        total_loss += loss.item()\n",
    "        all_preds.append(outputs.argmax(1).cpu())\n",
    "        all_labels.append(labels.cpu())\n",
    "\n",
    "    all_preds = torch.cat(all_preds)\n",
    "    all_labels = torch.cat(all_labels)\n",
    "    acc = balanced_accuracy_score(all_labels, all_preds)\n",
    "    return total_loss / len(loader), acc\n"
   ]
  },
  {
   "cell_type": "code",
   "execution_count": 56,
   "id": "97377289",
   "metadata": {},
   "outputs": [],
   "source": [
    "# -------------------- Evaluation --------------------\n",
    "def evaluate(model, loader, criterion):\n",
    "    model.eval()\n",
    "    total_loss = 0\n",
    "    all_labels, all_preds = [], []\n",
    "\n",
    "    with torch.no_grad():\n",
    "        for imgs, labels in tqdm(loader, desc=\"Evaluating\", leave=False):\n",
    "            imgs, labels = imgs.to(DEVICE), labels.squeeze().to(DEVICE)\n",
    "            outputs = model(imgs)\n",
    "            loss = criterion(outputs, labels)\n",
    "\n",
    "            total_loss += loss.item()\n",
    "            all_preds.append(outputs.argmax(1).cpu())\n",
    "            all_labels.append(labels.cpu())\n",
    "\n",
    "    all_preds = torch.cat(all_preds)\n",
    "    all_labels = torch.cat(all_labels)\n",
    "    acc = balanced_accuracy_score(all_labels, all_preds)\n",
    "    return total_loss / len(loader), acc\n"
   ]
  },
  {
   "cell_type": "code",
   "execution_count": 57,
   "id": "f84a592c",
   "metadata": {},
   "outputs": [
    {
     "name": "stdout",
     "output_type": "stream",
     "text": [
      "\n",
      "🔁 Epoch 1/10\n"
     ]
    },
    {
     "name": "stderr",
     "output_type": "stream",
     "text": [
      "                                                         \r"
     ]
    },
    {
     "name": "stdout",
     "output_type": "stream",
     "text": [
      "✅ Train Acc: 0.1209 | Test Acc: 0.1429\n",
      "\n",
      "🔁 Epoch 2/10\n"
     ]
    },
    {
     "name": "stderr",
     "output_type": "stream",
     "text": [
      "                                                         \r"
     ]
    },
    {
     "name": "stdout",
     "output_type": "stream",
     "text": [
      "✅ Train Acc: 0.1341 | Test Acc: 0.1429\n",
      "\n",
      "🔁 Epoch 3/10\n"
     ]
    },
    {
     "name": "stderr",
     "output_type": "stream",
     "text": [
      "                                                         \r"
     ]
    },
    {
     "name": "stdout",
     "output_type": "stream",
     "text": [
      "✅ Train Acc: 0.0897 | Test Acc: 0.1429\n",
      "\n",
      "🔁 Epoch 4/10\n"
     ]
    },
    {
     "name": "stderr",
     "output_type": "stream",
     "text": [
      "                                                         \r"
     ]
    },
    {
     "name": "stdout",
     "output_type": "stream",
     "text": [
      "✅ Train Acc: 0.1314 | Test Acc: 0.1429\n",
      "\n",
      "🔁 Epoch 5/10\n"
     ]
    },
    {
     "name": "stderr",
     "output_type": "stream",
     "text": [
      "                                                         \r"
     ]
    },
    {
     "name": "stdout",
     "output_type": "stream",
     "text": [
      "✅ Train Acc: 0.1591 | Test Acc: 0.1429\n",
      "\n",
      "🔁 Epoch 6/10\n"
     ]
    },
    {
     "name": "stderr",
     "output_type": "stream",
     "text": [
      "                                                         \r"
     ]
    },
    {
     "name": "stdout",
     "output_type": "stream",
     "text": [
      "✅ Train Acc: 0.1693 | Test Acc: 0.1429\n",
      "\n",
      "🔁 Epoch 7/10\n"
     ]
    },
    {
     "name": "stderr",
     "output_type": "stream",
     "text": [
      "                                                         \r"
     ]
    },
    {
     "name": "stdout",
     "output_type": "stream",
     "text": [
      "✅ Train Acc: 0.2324 | Test Acc: 0.1429\n",
      "\n",
      "🔁 Epoch 8/10\n"
     ]
    },
    {
     "name": "stderr",
     "output_type": "stream",
     "text": [
      "                                                         \r"
     ]
    },
    {
     "name": "stdout",
     "output_type": "stream",
     "text": [
      "✅ Train Acc: 0.2439 | Test Acc: 0.1429\n",
      "\n",
      "🔁 Epoch 9/10\n"
     ]
    },
    {
     "name": "stderr",
     "output_type": "stream",
     "text": [
      "                                                         \r"
     ]
    },
    {
     "name": "stdout",
     "output_type": "stream",
     "text": [
      "✅ Train Acc: 0.1471 | Test Acc: 0.1429\n",
      "\n",
      "🔁 Epoch 10/10\n"
     ]
    },
    {
     "name": "stderr",
     "output_type": "stream",
     "text": [
      "                                                         "
     ]
    },
    {
     "name": "stdout",
     "output_type": "stream",
     "text": [
      "✅ Train Acc: 0.2576 | Test Acc: 0.1429\n"
     ]
    },
    {
     "name": "stderr",
     "output_type": "stream",
     "text": [
      "\r"
     ]
    }
   ],
   "source": [
    "# -------------------- Run --------------------\n",
    "model = SLViT(num_classes=n_classes).to(DEVICE)\n",
    "optimizer = torch.optim.Adam(model.parameters(), lr=LR)\n",
    "criterion = nn.CrossEntropyLoss()\n",
    "\n",
    "train_losses, test_losses = [], []\n",
    "train_accs, test_accs = [], []\n",
    "\n",
    "for epoch in range(EPOCHS):\n",
    "    print(f\"\\n🔁 Epoch {epoch+1}/{EPOCHS}\")\n",
    "    train_loss, train_acc = train(model, train_loader, criterion, optimizer)\n",
    "    test_loss, test_acc = evaluate(model, test_loader, criterion)\n",
    "\n",
    "    train_losses.append(train_loss)\n",
    "    test_losses.append(test_loss)\n",
    "    train_accs.append(train_acc)\n",
    "    test_accs.append(test_acc)\n",
    "\n",
    "    print(f\"✅ Train Acc: {train_acc:.4f} | Test Acc: {test_acc:.4f}\")\n"
   ]
  },
  {
   "cell_type": "code",
   "execution_count": 58,
   "id": "08d6276a",
   "metadata": {},
   "outputs": [
    {
     "data": {
      "image/png": "[encoded data removed]",
      "text/plain": [
       "<Figure size 1000x400 with 2 Axes>"
      ]
     },
     "metadata": {},
     "output_type": "display_data"
    }
   ],
   "source": [
    "# -------------------- Plot --------------------\n",
    "plt.figure(figsize=(10,4))\n",
    "plt.subplot(1,2,1)\n",
    "plt.plot(train_accs, label='Train Acc')\n",
    "plt.plot(test_accs, label='Test Acc')\n",
    "plt.title('Balanced Accuracy')\n",
    "plt.legend()\n",
    "\n",
    "plt.subplot(1,2,2)\n",
    "plt.plot(train_losses, label='Train Loss')\n",
    "plt.plot(test_losses, label='Test Loss')\n",
    "plt.title('Loss')\n",
    "plt.legend()\n",
    "plt.show()\n"
   ]
  },
  {
   "cell_type": "code",
   "execution_count": null,
   "id": "a68eedfb",
   "metadata": {},
   "outputs": [],
   "source": []
  }
 ],
 "metadata": {
  "kernelspec": {
   "display_name": "Python 3",
   "language": "python",
   "name": "python3"
  },
  "language_info": {
   "codemirror_mode": {
    "name": "ipython",
    "version": 3
   },
   "file_extension": ".py",
   "mimetype": "text/x-python",
   "name": "python",
   "nbconvert_exporter": "python",
   "pygments_lexer": "ipython3",
   "version": "3.10.18"
  }
 },
 "nbformat": 4,
 "nbformat_minor": 5
}

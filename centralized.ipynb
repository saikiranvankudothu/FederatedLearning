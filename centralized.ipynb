{
 "cells": [
  {
   "cell_type": "code",
   "execution_count": 1,
   "id": "959e3cef",
   "metadata": {},
   "outputs": [],
   "source": [
    "!pip install timm scikit-learn tqdm --quiet"
   ]
  },
  {
   "cell_type": "code",
   "execution_count": 2,
   "id": "2843a0f9",
   "metadata": {},
   "outputs": [
    {
     "name": "stderr",
     "output_type": "stream",
     "text": [
      "c:\\Users\\user\\Downloads\\kiran\\kiran\\lib\\site-packages\\tqdm\\auto.py:21: TqdmWarning: IProgress not found. Please update jupyter and ipywidgets. See https://ipywidgets.readthedocs.io/en/stable/user_install.html\n",
      "  from .autonotebook import tqdm as notebook_tqdm\n"
     ]
    }
   ],
   "source": [
    "import timm\n",
    "import torch\n",
    "import torch.nn as nn\n",
    "import torch.optim as optim\n",
    "from torch.utils.data import DataLoader\n",
    "from torchvision import transforms, datasets\n",
    "from sklearn.metrics import balanced_accuracy_score\n",
    "from tqdm import tqdm\n",
    "import os\n",
    "import random\n",
    "import numpy as np\n",
    "import pickle as pkl\n"
   ]
  },
  {
   "cell_type": "code",
   "execution_count": 3,
   "id": "82887a83",
   "metadata": {},
   "outputs": [
    {
     "name": "stdout",
     "output_type": "stream",
     "text": [
      "Using device: cuda\n"
     ]
    }
   ],
   "source": [
    "device = torch.device(\"cuda\" if torch.cuda.is_available() else \"cpu\")\n",
    "print(f\"Using device: {device}\")\n",
    "\n",
    "# Config\n",
    "BATCH_SIZE = 4\n",
    "EPOCHS = 10\n",
    "LR = 1e-4\n",
    "SEED = 42\n",
    "NUM_CLASSES = 10  # Update based on your dataset (e.g. 7 for HAM)\n",
    "\n",
    "# Set seeds\n",
    "torch.manual_seed(SEED)\n",
    "np.random.seed(SEED)\n",
    "random.seed(SEED)\n"
   ]
  },
  {
   "cell_type": "code",
   "execution_count": 4,
   "id": "71b948da",
   "metadata": {},
   "outputs": [
    {
     "name": "stdout",
     "output_type": "stream",
     "text": [
      "Files already downloaded and verified\n",
      "Files already downloaded and verified\n"
     ]
    }
   ],
   "source": [
    "transform_train = transforms.Compose([\n",
    "    transforms.Resize((224, 224)),\n",
    "    transforms.ToTensor()\n",
    "])\n",
    "\n",
    "transform_test = transforms.Compose([\n",
    "    transforms.Resize((224, 224)),\n",
    "    transforms.ToTensor()\n",
    "])\n",
    "\n",
    "# Replace with HAM later\n",
    "train_dataset = datasets.CIFAR10(root=\"./data\", train=True, transform=transform_train, download=True)\n",
    "test_dataset = datasets.CIFAR10(root=\"./data\", train=False, transform=transform_test, download=True)\n",
    "\n",
    "# train_loader = DataLoader(train_dataset, batch_size=BATCH_SIZE, shuffle=True, num_workers=2)\n",
    "# test_loader = DataLoader(test_dataset, batch_size=BATCH_SIZE, shuffle=False, num_workers=2)\n"
   ]
  },
  {
   "cell_type": "code",
   "execution_count": 5,
   "id": "db8cf3f9",
   "metadata": {},
   "outputs": [],
   "source": [
    "from torch.utils.data import Subset\n",
    "\n",
    "# Select first N samples (say, 1000)\n",
    "N = 10\n",
    "indices = list(range(N))\n",
    "train_subset = Subset(train_dataset, indices)\n",
    "train_loader = DataLoader(train_subset, batch_size=BATCH_SIZE, shuffle=True, num_workers=2)\n",
    "test_subset = Subset(test_dataset, range(2))\n",
    "test_loader = DataLoader(test_subset, batch_size=BATCH_SIZE, shuffle=False, num_workers=2)\n"
   ]
  },
  {
   "cell_type": "code",
   "execution_count": 6,
   "id": "0ee3fbfe",
   "metadata": {},
   "outputs": [],
   "source": [
    "model = timm.create_model(\n",
    "    model_name=\"vit_base_r50_s16_224\",\n",
    "    pretrained=False,\n",
    "    num_classes=NUM_CLASSES,\n",
    "    in_chans=3\n",
    ").to(device)"
   ]
  },
  {
   "cell_type": "code",
   "execution_count": 7,
   "id": "886dc488",
   "metadata": {},
   "outputs": [],
   "source": [
    "class CentralizedTrainer:\n",
    "    def __init__(self, model, device, lr, save_dir=\"centralized_logs\"):\n",
    "        self.device = device\n",
    "        self.model = model\n",
    "        self.criterion = nn.CrossEntropyLoss()\n",
    "        self.optimizer = optim.Adam(self.model.parameters(), lr=lr)\n",
    "        self.save_dir = save_dir\n",
    "        os.makedirs(self.save_dir, exist_ok=True)\n",
    "\n",
    "        self.losses = {'train': [], 'test': []}\n",
    "        self.bal_accs = {'train': [], 'test': []}\n",
    "\n",
    "    def train_one_epoch(self, dataloader):\n",
    "        self.model.train()\n",
    "        running_loss = 0\n",
    "        all_preds = []\n",
    "        all_labels = []\n",
    "\n",
    "        for imgs, labels in tqdm(dataloader):\n",
    "            imgs, labels = imgs.to(self.device), labels.to(self.device)\n",
    "            self.optimizer.zero_grad()\n",
    "            outputs = self.model(imgs)\n",
    "            loss = self.criterion(outputs, labels)\n",
    "            loss.backward()\n",
    "            self.optimizer.step()\n",
    "\n",
    "            running_loss += loss.item()\n",
    "            preds = outputs.argmax(dim=1)\n",
    "            all_preds.append(preds.cpu())\n",
    "            all_labels.append(labels.cpu())\n",
    "\n",
    "        self._log_metrics(all_preds, all_labels, running_loss, len(dataloader), train=True)\n",
    "\n",
    "    def eval_one_epoch(self, dataloader):\n",
    "        self.model.eval()\n",
    "        running_loss = 0\n",
    "        all_preds = []\n",
    "        all_labels = []\n",
    "\n",
    "        with torch.no_grad():\n",
    "            for imgs, labels in tqdm(dataloader):\n",
    "                imgs, labels = imgs.to(self.device), labels.to(self.device)\n",
    "                outputs = self.model(imgs)\n",
    "                loss = self.criterion(outputs, labels)\n",
    "                running_loss += loss.item()\n",
    "                preds = outputs.argmax(dim=1)\n",
    "                all_preds.append(preds.cpu())\n",
    "                all_labels.append(labels.cpu())\n",
    "\n",
    "        self._log_metrics(all_preds, all_labels, running_loss, len(dataloader), train=False)\n",
    "\n",
    "    def _log_metrics(self, preds, labels, loss_sum, num_batches, train=True):\n",
    "        phase = 'train' if train else 'test'\n",
    "        y_true = torch.cat(labels)\n",
    "        y_pred = torch.cat(preds)\n",
    "        loss = loss_sum / num_batches\n",
    "        bal_acc = balanced_accuracy_score(y_true, y_pred)\n",
    "\n",
    "        self.losses[phase].append(loss)\n",
    "        self.bal_accs[phase].append(bal_acc)\n",
    "\n",
    "        print(f\"{phase.capitalize()} Loss: {loss:.4f} | Balanced Acc: {bal_acc:.4f}\")\n",
    "\n",
    "    def save_logs(self):\n",
    "        with open(os.path.join(self.save_dir, \"losses.pkl\"), \"wb\") as f:\n",
    "            pkl.dump(self.losses, f)\n",
    "        with open(os.path.join(self.save_dir, \"balanced_accs.pkl\"), \"wb\") as f:\n",
    "            pkl.dump(self.bal_accs, f)\n"
   ]
  },
  {
   "cell_type": "code",
   "execution_count": 8,
   "id": "75839d33",
   "metadata": {},
   "outputs": [
    {
     "name": "stdout",
     "output_type": "stream",
     "text": [
      "\n",
      "Epoch 1/10\n"
     ]
    },
    {
     "name": "stderr",
     "output_type": "stream",
     "text": [
      "100%|██████████| 3/3 [00:08<00:00,  2.91s/it]\n",
      "c:\\Users\\user\\Downloads\\kiran\\kiran\\lib\\site-packages\\sklearn\\metrics\\_classification.py:2776: UserWarning: y_pred contains classes not in y_true\n",
      "  warnings.warn(\"y_pred contains classes not in y_true\")\n"
     ]
    },
    {
     "name": "stdout",
     "output_type": "stream",
     "text": [
      "Train Loss: 4.9014 | Balanced Acc: 0.1875\n"
     ]
    },
    {
     "name": "stderr",
     "output_type": "stream",
     "text": [
      "100%|██████████| 1/1 [00:06<00:00,  6.34s/it]\n",
      "c:\\Users\\user\\Downloads\\kiran\\kiran\\lib\\site-packages\\sklearn\\metrics\\_classification.py:2776: UserWarning: y_pred contains classes not in y_true\n",
      "  warnings.warn(\"y_pred contains classes not in y_true\")\n"
     ]
    },
    {
     "name": "stdout",
     "output_type": "stream",
     "text": [
      "Test Loss: 2.9198 | Balanced Acc: 0.0000\n",
      "\n",
      "Epoch 2/10\n"
     ]
    },
    {
     "name": "stderr",
     "output_type": "stream",
     "text": [
      "100%|██████████| 3/3 [00:07<00:00,  2.46s/it]\n"
     ]
    },
    {
     "name": "stdout",
     "output_type": "stream",
     "text": [
      "Train Loss: 2.4317 | Balanced Acc: 0.1250\n"
     ]
    },
    {
     "name": "stderr",
     "output_type": "stream",
     "text": [
      "100%|██████████| 1/1 [00:06<00:00,  6.20s/it]\n"
     ]
    },
    {
     "name": "stdout",
     "output_type": "stream",
     "text": [
      "Test Loss: 1.6784 | Balanced Acc: 0.5000\n",
      "\n",
      "Epoch 3/10\n"
     ]
    },
    {
     "name": "stderr",
     "output_type": "stream",
     "text": [
      "100%|██████████| 3/3 [00:07<00:00,  2.46s/it]\n"
     ]
    },
    {
     "name": "stdout",
     "output_type": "stream",
     "text": [
      "Train Loss: 2.2790 | Balanced Acc: 0.1250\n"
     ]
    },
    {
     "name": "stderr",
     "output_type": "stream",
     "text": [
      "100%|██████████| 1/1 [00:06<00:00,  6.22s/it]\n"
     ]
    },
    {
     "name": "stdout",
     "output_type": "stream",
     "text": [
      "Test Loss: 1.7722 | Balanced Acc: 0.5000\n",
      "\n",
      "Epoch 4/10\n"
     ]
    },
    {
     "name": "stderr",
     "output_type": "stream",
     "text": [
      "100%|██████████| 3/3 [00:07<00:00,  2.45s/it]\n"
     ]
    },
    {
     "name": "stdout",
     "output_type": "stream",
     "text": [
      "Train Loss: 2.0639 | Balanced Acc: 0.1875\n"
     ]
    },
    {
     "name": "stderr",
     "output_type": "stream",
     "text": [
      "100%|██████████| 1/1 [00:06<00:00,  6.16s/it]\n",
      "c:\\Users\\user\\Downloads\\kiran\\kiran\\lib\\site-packages\\sklearn\\metrics\\_classification.py:2776: UserWarning: y_pred contains classes not in y_true\n",
      "  warnings.warn(\"y_pred contains classes not in y_true\")\n"
     ]
    },
    {
     "name": "stdout",
     "output_type": "stream",
     "text": [
      "Test Loss: 2.3273 | Balanced Acc: 0.0000\n",
      "\n",
      "Epoch 5/10\n"
     ]
    },
    {
     "name": "stderr",
     "output_type": "stream",
     "text": [
      "100%|██████████| 3/3 [00:07<00:00,  2.47s/it]\n"
     ]
    },
    {
     "name": "stdout",
     "output_type": "stream",
     "text": [
      "Train Loss: 1.9133 | Balanced Acc: 0.1250\n"
     ]
    },
    {
     "name": "stderr",
     "output_type": "stream",
     "text": [
      "100%|██████████| 1/1 [00:06<00:00,  6.15s/it]\n",
      "c:\\Users\\user\\Downloads\\kiran\\kiran\\lib\\site-packages\\sklearn\\metrics\\_classification.py:2776: UserWarning: y_pred contains classes not in y_true\n",
      "  warnings.warn(\"y_pred contains classes not in y_true\")\n"
     ]
    },
    {
     "name": "stdout",
     "output_type": "stream",
     "text": [
      "Test Loss: 2.3404 | Balanced Acc: 0.0000\n",
      "\n",
      "Epoch 6/10\n"
     ]
    },
    {
     "name": "stderr",
     "output_type": "stream",
     "text": [
      "100%|██████████| 3/3 [00:07<00:00,  2.53s/it]\n"
     ]
    },
    {
     "name": "stdout",
     "output_type": "stream",
     "text": [
      "Train Loss: 1.5337 | Balanced Acc: 0.2500\n"
     ]
    },
    {
     "name": "stderr",
     "output_type": "stream",
     "text": [
      "100%|██████████| 1/1 [00:06<00:00,  6.25s/it]\n",
      "c:\\Users\\user\\Downloads\\kiran\\kiran\\lib\\site-packages\\sklearn\\metrics\\_classification.py:2776: UserWarning: y_pred contains classes not in y_true\n",
      "  warnings.warn(\"y_pred contains classes not in y_true\")\n"
     ]
    },
    {
     "name": "stdout",
     "output_type": "stream",
     "text": [
      "Test Loss: 1.9684 | Balanced Acc: 0.0000\n",
      "\n",
      "Epoch 7/10\n"
     ]
    },
    {
     "name": "stderr",
     "output_type": "stream",
     "text": [
      "100%|██████████| 3/3 [00:07<00:00,  2.46s/it]\n"
     ]
    },
    {
     "name": "stdout",
     "output_type": "stream",
     "text": [
      "Train Loss: 1.2471 | Balanced Acc: 0.6875\n"
     ]
    },
    {
     "name": "stderr",
     "output_type": "stream",
     "text": [
      "100%|██████████| 1/1 [00:06<00:00,  6.18s/it]\n",
      "c:\\Users\\user\\Downloads\\kiran\\kiran\\lib\\site-packages\\sklearn\\metrics\\_classification.py:2776: UserWarning: y_pred contains classes not in y_true\n",
      "  warnings.warn(\"y_pred contains classes not in y_true\")\n"
     ]
    },
    {
     "name": "stdout",
     "output_type": "stream",
     "text": [
      "Test Loss: 1.9071 | Balanced Acc: 0.5000\n",
      "\n",
      "Epoch 8/10\n"
     ]
    },
    {
     "name": "stderr",
     "output_type": "stream",
     "text": [
      "100%|██████████| 3/3 [00:07<00:00,  2.47s/it]\n"
     ]
    },
    {
     "name": "stdout",
     "output_type": "stream",
     "text": [
      "Train Loss: 1.4062 | Balanced Acc: 0.5000\n"
     ]
    },
    {
     "name": "stderr",
     "output_type": "stream",
     "text": [
      "100%|██████████| 1/1 [00:06<00:00,  6.16s/it]\n",
      "c:\\Users\\user\\Downloads\\kiran\\kiran\\lib\\site-packages\\sklearn\\metrics\\_classification.py:2776: UserWarning: y_pred contains classes not in y_true\n",
      "  warnings.warn(\"y_pred contains classes not in y_true\")\n"
     ]
    },
    {
     "name": "stdout",
     "output_type": "stream",
     "text": [
      "Test Loss: 2.3932 | Balanced Acc: 0.0000\n",
      "\n",
      "Epoch 9/10\n"
     ]
    },
    {
     "name": "stderr",
     "output_type": "stream",
     "text": [
      "100%|██████████| 3/3 [00:07<00:00,  2.47s/it]\n"
     ]
    },
    {
     "name": "stdout",
     "output_type": "stream",
     "text": [
      "Train Loss: 1.1281 | Balanced Acc: 0.5000\n"
     ]
    },
    {
     "name": "stderr",
     "output_type": "stream",
     "text": [
      "100%|██████████| 1/1 [00:06<00:00,  6.15s/it]\n",
      "c:\\Users\\user\\Downloads\\kiran\\kiran\\lib\\site-packages\\sklearn\\metrics\\_classification.py:2776: UserWarning: y_pred contains classes not in y_true\n",
      "  warnings.warn(\"y_pred contains classes not in y_true\")\n"
     ]
    },
    {
     "name": "stdout",
     "output_type": "stream",
     "text": [
      "Test Loss: 3.2608 | Balanced Acc: 0.0000\n",
      "\n",
      "Epoch 10/10\n"
     ]
    },
    {
     "name": "stderr",
     "output_type": "stream",
     "text": [
      "100%|██████████| 3/3 [00:07<00:00,  2.47s/it]\n"
     ]
    },
    {
     "name": "stdout",
     "output_type": "stream",
     "text": [
      "Train Loss: 0.9934 | Balanced Acc: 0.5000\n"
     ]
    },
    {
     "name": "stderr",
     "output_type": "stream",
     "text": [
      "100%|██████████| 1/1 [00:06<00:00,  6.24s/it]"
     ]
    },
    {
     "name": "stdout",
     "output_type": "stream",
     "text": [
      "Test Loss: 3.4359 | Balanced Acc: 0.0000\n"
     ]
    },
    {
     "name": "stderr",
     "output_type": "stream",
     "text": [
      "\n",
      "c:\\Users\\user\\Downloads\\kiran\\kiran\\lib\\site-packages\\sklearn\\metrics\\_classification.py:2776: UserWarning: y_pred contains classes not in y_true\n",
      "  warnings.warn(\"y_pred contains classes not in y_true\")\n"
     ]
    }
   ],
   "source": [
    "trainer = CentralizedTrainer(model, device, LR)\n",
    "\n",
    "for epoch in range(EPOCHS):\n",
    "    print(f\"\\nEpoch {epoch+1}/{EPOCHS}\")\n",
    "    trainer.train_one_epoch(train_loader)\n",
    "    trainer.eval_one_epoch(test_loader)\n",
    "\n",
    "trainer.save_logs()\n"
   ]
  },
  {
   "cell_type": "code",
   "execution_count": 9,
   "id": "84d9bdcb",
   "metadata": {},
   "outputs": [],
   "source": [
    "import matplotlib.pyplot as plt\n",
    "\n",
    "def plot_training_logs(losses, bal_accs):\n",
    "    epochs = range(1, len(losses['train']) + 1)\n",
    "\n",
    "    plt.figure(figsize=(14, 5))\n",
    "\n",
    "    # Loss Plot\n",
    "    plt.subplot(1, 2, 1)\n",
    "    plt.plot(epochs, losses['train'], label='Train Loss')\n",
    "    plt.plot(epochs, losses['test'], label='Test Loss')\n",
    "    plt.xlabel('Epoch')\n",
    "    plt.ylabel('Loss')\n",
    "    plt.title('Loss Over Epochs')\n",
    "    plt.legend()\n",
    "    plt.grid(True)\n",
    "\n",
    "    # Balanced Accuracy Plot\n",
    "    plt.subplot(1, 2, 2)\n",
    "    plt.plot(epochs, bal_accs['train'], label='Train Balanced Acc')\n",
    "    plt.plot(epochs, bal_accs['test'], label='Test Balanced Acc')\n",
    "    plt.xlabel('Epoch')\n",
    "    plt.ylabel('Balanced Accuracy')\n",
    "    plt.title('Balanced Accuracy Over Epochs')\n",
    "    plt.legend()\n",
    "    plt.grid(True)\n",
    "\n",
    "    plt.tight_layout()\n",
    "    plt.show()\n"
   ]
  },
  {
   "cell_type": "code",
   "execution_count": 10,
   "id": "43807fdf",
   "metadata": {},
   "outputs": [
    {
     "data": {
      "image/png": "[encoded data removed]",
      "text/plain": [
       "<Figure size 1400x500 with 2 Axes>"
      ]
     },
     "metadata": {},
     "output_type": "display_data"
    }
   ],
   "source": [
    "with open(\"centralized_logs/losses.pkl\", \"rb\") as f: #C:\\Users\\user\\Downloads\\kiran\\centralized_logs\\balanced_accs.pkl\n",
    "    losses = pkl.load(f)\n",
    "with open(\"centralized_logs/balanced_accs.pkl\", \"rb\") as f:\n",
    "    bal_accs = pkl.load(f)\n",
    "\n",
    "plot_training_logs(losses, bal_accs)\n"
   ]
  },
  {
   "cell_type": "code",
   "execution_count": 11,
   "id": "e158ff2d",
   "metadata": {},
   "outputs": [
    {
     "data": {
      "text/plain": [
       "{'train': [4.901393890380859,\n",
       "  2.431681275367737,\n",
       "  2.278991937637329,\n",
       "  2.0639476776123047,\n",
       "  1.9132632811864216,\n",
       "  1.5336604913075764,\n",
       "  1.2471099297205608,\n",
       "  1.4061980644861858,\n",
       "  1.1280773480733235,\n",
       "  0.9933663209279379],\n",
       " 'test': [2.919844150543213,\n",
       "  1.6784236431121826,\n",
       "  1.7722036838531494,\n",
       "  2.3272578716278076,\n",
       "  2.3403639793395996,\n",
       "  1.968430757522583,\n",
       "  1.9071252346038818,\n",
       "  2.3931708335876465,\n",
       "  3.2608370780944824,\n",
       "  3.435917615890503]}"
      ]
     },
     "execution_count": 11,
     "metadata": {},
     "output_type": "execute_result"
    }
   ],
   "source": [
    "losses"
   ]
  },
  {
   "cell_type": "code",
   "execution_count": null,
   "id": "0d202a0d",
   "metadata": {},
   "outputs": [],
   "source": []
  }
 ],
 "metadata": {
  "kernelspec": {
   "display_name": "Python 3",
   "language": "python",
   "name": "python3"
  },
  "language_info": {
   "codemirror_mode": {
    "name": "ipython",
    "version": 3
   },
   "file_extension": ".py",
   "mimetype": "text/x-python",
   "name": "python",
   "nbconvert_exporter": "python",
   "pygments_lexer": "ipython3",
   "version": "3.10.18"
  }
 },
 "nbformat": 4,
 "nbformat_minor": 5
}
